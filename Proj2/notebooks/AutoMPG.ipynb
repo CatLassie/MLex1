{
 "cells": [
  {
   "cell_type": "markdown",
   "metadata": {},
   "source": [
    "# \"Auto MPG\" dataset"
   ]
  },
  {
   "cell_type": "markdown",
   "metadata": {},
   "source": [
    "### imports"
   ]
  },
  {
   "cell_type": "code",
   "execution_count": 1,
   "metadata": {
    "collapsed": true
   },
   "outputs": [],
   "source": [
    "import pandas as pd\n",
    "import numpy as np\n",
    "import matplotlib.pyplot as plt\n",
    "\n",
    "# this tells jupyter to plot inline instead of a separate window\n",
    "%matplotlib inline"
   ]
  },
  {
   "cell_type": "code",
   "execution_count": 2,
   "metadata": {},
   "outputs": [
    {
     "data": {
      "text/html": [
       "<div>\n",
       "<style>\n",
       "    .dataframe thead tr:only-child th {\n",
       "        text-align: right;\n",
       "    }\n",
       "\n",
       "    .dataframe thead th {\n",
       "        text-align: left;\n",
       "    }\n",
       "\n",
       "    .dataframe tbody tr th {\n",
       "        vertical-align: top;\n",
       "    }\n",
       "</style>\n",
       "<table border=\"1\" class=\"dataframe\">\n",
       "  <thead>\n",
       "    <tr style=\"text-align: right;\">\n",
       "      <th></th>\n",
       "      <th>mpg</th>\n",
       "      <th>cylinders</th>\n",
       "      <th>displacement</th>\n",
       "      <th>horsepower</th>\n",
       "      <th>weight</th>\n",
       "      <th>acceleration</th>\n",
       "      <th>model_year</th>\n",
       "      <th>origin</th>\n",
       "      <th>car_name</th>\n",
       "    </tr>\n",
       "  </thead>\n",
       "  <tbody>\n",
       "    <tr>\n",
       "      <th>30</th>\n",
       "      <td>28.0</td>\n",
       "      <td>4</td>\n",
       "      <td>140.0</td>\n",
       "      <td>90.00</td>\n",
       "      <td>2264.0</td>\n",
       "      <td>15.5</td>\n",
       "      <td>71</td>\n",
       "      <td>1</td>\n",
       "      <td>chevrolet vega 2300</td>\n",
       "    </tr>\n",
       "    <tr>\n",
       "      <th>31</th>\n",
       "      <td>25.0</td>\n",
       "      <td>4</td>\n",
       "      <td>113.0</td>\n",
       "      <td>95.00</td>\n",
       "      <td>2228.0</td>\n",
       "      <td>14.0</td>\n",
       "      <td>71</td>\n",
       "      <td>3</td>\n",
       "      <td>toyota corona</td>\n",
       "    </tr>\n",
       "    <tr>\n",
       "      <th>32</th>\n",
       "      <td>25.0</td>\n",
       "      <td>4</td>\n",
       "      <td>98.0</td>\n",
       "      <td>?</td>\n",
       "      <td>2046.0</td>\n",
       "      <td>19.0</td>\n",
       "      <td>71</td>\n",
       "      <td>1</td>\n",
       "      <td>ford pinto</td>\n",
       "    </tr>\n",
       "    <tr>\n",
       "      <th>33</th>\n",
       "      <td>19.0</td>\n",
       "      <td>6</td>\n",
       "      <td>232.0</td>\n",
       "      <td>100.0</td>\n",
       "      <td>2634.0</td>\n",
       "      <td>13.0</td>\n",
       "      <td>71</td>\n",
       "      <td>1</td>\n",
       "      <td>amc gremlin</td>\n",
       "    </tr>\n",
       "    <tr>\n",
       "      <th>34</th>\n",
       "      <td>16.0</td>\n",
       "      <td>6</td>\n",
       "      <td>225.0</td>\n",
       "      <td>105.0</td>\n",
       "      <td>3439.0</td>\n",
       "      <td>15.5</td>\n",
       "      <td>71</td>\n",
       "      <td>1</td>\n",
       "      <td>plymouth satellite custom</td>\n",
       "    </tr>\n",
       "    <tr>\n",
       "      <th>35</th>\n",
       "      <td>17.0</td>\n",
       "      <td>6</td>\n",
       "      <td>250.0</td>\n",
       "      <td>100.0</td>\n",
       "      <td>3329.0</td>\n",
       "      <td>15.5</td>\n",
       "      <td>71</td>\n",
       "      <td>1</td>\n",
       "      <td>chevrolet chevelle malibu</td>\n",
       "    </tr>\n",
       "  </tbody>\n",
       "</table>\n",
       "</div>"
      ],
      "text/plain": [
       "     mpg  cylinders  displacement horsepower  weight  acceleration  \\\n",
       "30  28.0          4         140.0      90.00  2264.0          15.5   \n",
       "31  25.0          4         113.0      95.00  2228.0          14.0   \n",
       "32  25.0          4          98.0          ?  2046.0          19.0   \n",
       "33  19.0          6         232.0      100.0  2634.0          13.0   \n",
       "34  16.0          6         225.0      105.0  3439.0          15.5   \n",
       "35  17.0          6         250.0      100.0  3329.0          15.5   \n",
       "\n",
       "    model_year  origin                   car_name  \n",
       "30          71       1        chevrolet vega 2300  \n",
       "31          71       3              toyota corona  \n",
       "32          71       1                 ford pinto  \n",
       "33          71       1                amc gremlin  \n",
       "34          71       1  plymouth satellite custom  \n",
       "35          71       1  chevrolet chevelle malibu  "
      ]
     },
     "execution_count": 2,
     "metadata": {},
     "output_type": "execute_result"
    }
   ],
   "source": [
    "autoDf = pd.read_csv(\"../data/autoMPG/auto-mpg-modified.data\", delim_whitespace=True)\n",
    "autoDf.loc[30:35]"
   ]
  },
  {
   "cell_type": "markdown",
   "metadata": {},
   "source": [
    "<br>\n",
    "<br>\n",
    "<br>\n",
    "<br>\n",
    "# Data preprocessing"
   ]
  },
  {
   "cell_type": "markdown",
   "metadata": {},
   "source": [
    "\n",
    "### deleting \"car_name\" feature (it is a unique string for every instance)"
   ]
  },
  {
   "cell_type": "code",
   "execution_count": 3,
   "metadata": {
    "collapsed": true
   },
   "outputs": [],
   "source": [
    "del autoDf['car_name']\n",
    "autoDf.loc[30:35];"
   ]
  },
  {
   "cell_type": "markdown",
   "metadata": {},
   "source": [
    "<br>\n",
    "### deleting missing horsepower values\n",
    "##### accessed through autoDfDeleted variable"
   ]
  },
  {
   "cell_type": "code",
   "execution_count": 4,
   "metadata": {
    "collapsed": true
   },
   "outputs": [],
   "source": [
    "missingValueIndices = autoDf[autoDf.horsepower=='?'].index\n",
    "autoDfDeleted = autoDf.drop(missingValueIndices)\n",
    "autoDfDeleted.loc[30:35];"
   ]
  },
  {
   "cell_type": "markdown",
   "metadata": {},
   "source": [
    "<br>\n",
    "### impute mean of all horsepower values\n",
    "##### accessed through autoDfImputed variable"
   ]
  },
  {
   "cell_type": "code",
   "execution_count": 5,
   "metadata": {
    "collapsed": true
   },
   "outputs": [],
   "source": [
    "autoDf['horsepower'] = pd.to_numeric(autoDf['horsepower'], errors='coerce')\n",
    "meanHorsepower = int(pd.to_numeric(autoDfDeleted['horsepower']).mean())\n",
    "horsepower = autoDf['horsepower']\n",
    "\n",
    "def mapping(s):\n",
    "    if(s!=s):\n",
    "        return meanHorsepower\n",
    "    else:\n",
    "        return s\n",
    "\n",
    "horsepower = horsepower.apply(lambda s: mapping(s))\n",
    "autoDfImputed = autoDf.copy()\n",
    "autoDfImputed['horsepower'] = horsepower\n",
    "autoDfImputed.loc[30:35];"
   ]
  },
  {
   "cell_type": "markdown",
   "metadata": {
    "collapsed": true
   },
   "source": [
    "<br>\n",
    "### casting all features to numeric values"
   ]
  },
  {
   "cell_type": "code",
   "execution_count": 6,
   "metadata": {
    "collapsed": true
   },
   "outputs": [],
   "source": [
    "autoDfDeleted['horsepower'] = pd.to_numeric(autoDfDeleted['horsepower'], errors='coerce')\n",
    "autoDfDeleted.astype(float, errors=\"raise\")\n",
    "autoDfDeleted.loc[30:35];"
   ]
  },
  {
   "cell_type": "code",
   "execution_count": 7,
   "metadata": {},
   "outputs": [
    {
     "data": {
      "text/html": [
       "<div>\n",
       "<style>\n",
       "    .dataframe thead tr:only-child th {\n",
       "        text-align: right;\n",
       "    }\n",
       "\n",
       "    .dataframe thead th {\n",
       "        text-align: left;\n",
       "    }\n",
       "\n",
       "    .dataframe tbody tr th {\n",
       "        vertical-align: top;\n",
       "    }\n",
       "</style>\n",
       "<table border=\"1\" class=\"dataframe\">\n",
       "  <thead>\n",
       "    <tr style=\"text-align: right;\">\n",
       "      <th></th>\n",
       "      <th>mpg</th>\n",
       "      <th>cylinders</th>\n",
       "      <th>displacement</th>\n",
       "      <th>horsepower</th>\n",
       "      <th>weight</th>\n",
       "      <th>acceleration</th>\n",
       "      <th>model_year</th>\n",
       "      <th>origin</th>\n",
       "    </tr>\n",
       "  </thead>\n",
       "  <tbody>\n",
       "    <tr>\n",
       "      <th>30</th>\n",
       "      <td>28.0</td>\n",
       "      <td>4</td>\n",
       "      <td>140.0</td>\n",
       "      <td>90.0</td>\n",
       "      <td>2264.0</td>\n",
       "      <td>15.5</td>\n",
       "      <td>71</td>\n",
       "      <td>1</td>\n",
       "    </tr>\n",
       "    <tr>\n",
       "      <th>31</th>\n",
       "      <td>25.0</td>\n",
       "      <td>4</td>\n",
       "      <td>113.0</td>\n",
       "      <td>95.0</td>\n",
       "      <td>2228.0</td>\n",
       "      <td>14.0</td>\n",
       "      <td>71</td>\n",
       "      <td>3</td>\n",
       "    </tr>\n",
       "    <tr>\n",
       "      <th>32</th>\n",
       "      <td>25.0</td>\n",
       "      <td>4</td>\n",
       "      <td>98.0</td>\n",
       "      <td>104.0</td>\n",
       "      <td>2046.0</td>\n",
       "      <td>19.0</td>\n",
       "      <td>71</td>\n",
       "      <td>1</td>\n",
       "    </tr>\n",
       "    <tr>\n",
       "      <th>33</th>\n",
       "      <td>19.0</td>\n",
       "      <td>6</td>\n",
       "      <td>232.0</td>\n",
       "      <td>100.0</td>\n",
       "      <td>2634.0</td>\n",
       "      <td>13.0</td>\n",
       "      <td>71</td>\n",
       "      <td>1</td>\n",
       "    </tr>\n",
       "    <tr>\n",
       "      <th>34</th>\n",
       "      <td>16.0</td>\n",
       "      <td>6</td>\n",
       "      <td>225.0</td>\n",
       "      <td>105.0</td>\n",
       "      <td>3439.0</td>\n",
       "      <td>15.5</td>\n",
       "      <td>71</td>\n",
       "      <td>1</td>\n",
       "    </tr>\n",
       "    <tr>\n",
       "      <th>35</th>\n",
       "      <td>17.0</td>\n",
       "      <td>6</td>\n",
       "      <td>250.0</td>\n",
       "      <td>100.0</td>\n",
       "      <td>3329.0</td>\n",
       "      <td>15.5</td>\n",
       "      <td>71</td>\n",
       "      <td>1</td>\n",
       "    </tr>\n",
       "  </tbody>\n",
       "</table>\n",
       "</div>"
      ],
      "text/plain": [
       "     mpg  cylinders  displacement  horsepower  weight  acceleration  \\\n",
       "30  28.0          4         140.0        90.0  2264.0          15.5   \n",
       "31  25.0          4         113.0        95.0  2228.0          14.0   \n",
       "32  25.0          4          98.0       104.0  2046.0          19.0   \n",
       "33  19.0          6         232.0       100.0  2634.0          13.0   \n",
       "34  16.0          6         225.0       105.0  3439.0          15.5   \n",
       "35  17.0          6         250.0       100.0  3329.0          15.5   \n",
       "\n",
       "    model_year  origin  \n",
       "30          71       1  \n",
       "31          71       3  \n",
       "32          71       1  \n",
       "33          71       1  \n",
       "34          71       1  \n",
       "35          71       1  "
      ]
     },
     "execution_count": 7,
     "metadata": {},
     "output_type": "execute_result"
    }
   ],
   "source": [
    "autoDfImputed.astype(float, errors=\"raise\")\n",
    "autoDfImputed.loc[30:35]"
   ]
  },
  {
   "cell_type": "markdown",
   "metadata": {},
   "source": [
    "<br>\n",
    "### correlation visualization (for deleted and imputed dataset)"
   ]
  },
  {
   "cell_type": "code",
   "execution_count": 8,
   "metadata": {
    "collapsed": true
   },
   "outputs": [],
   "source": [
    "#taken from pluralsight\n",
    "def plot_corr(df, size=10): #size is just the size of the plot, not the number of features\n",
    "    corr = df.corr()\n",
    "    fig, ax = plt.subplots(figsize=(size,size))\n",
    "    ax.matshow(corr)\n",
    "    plt.xticks(range(len(corr.columns)), corr.columns)\n",
    "    plt.yticks(range(len(corr.columns)), corr.columns)"
   ]
  },
  {
   "cell_type": "code",
   "execution_count": 9,
   "metadata": {
    "collapsed": true
   },
   "outputs": [],
   "source": [
    "#plot_corr(autoDfDeleted)"
   ]
  },
  {
   "cell_type": "code",
   "execution_count": 10,
   "metadata": {
    "collapsed": true
   },
   "outputs": [],
   "source": [
    "#autoDfDeleted.corr()"
   ]
  },
  {
   "cell_type": "code",
   "execution_count": 11,
   "metadata": {},
   "outputs": [
    {
     "data": {
      "image/png": "[encoded data removed]",
      "text/plain": [
       "<matplotlib.figure.Figure at 0x1ce7fbe7710>"
      ]
     },
     "metadata": {},
     "output_type": "display_data"
    }
   ],
   "source": [
    "plot_corr(autoDfImputed)"
   ]
  },
  {
   "cell_type": "code",
   "execution_count": 12,
   "metadata": {},
   "outputs": [
    {
     "data": {
      "text/html": [
       "<div>\n",
       "<style>\n",
       "    .dataframe thead tr:only-child th {\n",
       "        text-align: right;\n",
       "    }\n",
       "\n",
       "    .dataframe thead th {\n",
       "        text-align: left;\n",
       "    }\n",
       "\n",
       "    .dataframe tbody tr th {\n",
       "        vertical-align: top;\n",
       "    }\n",
       "</style>\n",
       "<table border=\"1\" class=\"dataframe\">\n",
       "  <thead>\n",
       "    <tr style=\"text-align: right;\">\n",
       "      <th></th>\n",
       "      <th>mpg</th>\n",
       "      <th>cylinders</th>\n",
       "      <th>displacement</th>\n",
       "      <th>horsepower</th>\n",
       "      <th>weight</th>\n",
       "      <th>acceleration</th>\n",
       "      <th>model_year</th>\n",
       "      <th>origin</th>\n",
       "    </tr>\n",
       "  </thead>\n",
       "  <tbody>\n",
       "    <tr>\n",
       "      <th>mpg</th>\n",
       "      <td>1.000000</td>\n",
       "      <td>-0.775396</td>\n",
       "      <td>-0.804203</td>\n",
       "      <td>-0.771543</td>\n",
       "      <td>-0.831741</td>\n",
       "      <td>0.420289</td>\n",
       "      <td>0.579267</td>\n",
       "      <td>0.563450</td>\n",
       "    </tr>\n",
       "    <tr>\n",
       "      <th>cylinders</th>\n",
       "      <td>-0.775396</td>\n",
       "      <td>1.000000</td>\n",
       "      <td>0.950721</td>\n",
       "      <td>0.839061</td>\n",
       "      <td>0.896017</td>\n",
       "      <td>-0.505419</td>\n",
       "      <td>-0.348746</td>\n",
       "      <td>-0.562543</td>\n",
       "    </tr>\n",
       "    <tr>\n",
       "      <th>displacement</th>\n",
       "      <td>-0.804203</td>\n",
       "      <td>0.950721</td>\n",
       "      <td>1.000000</td>\n",
       "      <td>0.893760</td>\n",
       "      <td>0.932824</td>\n",
       "      <td>-0.543684</td>\n",
       "      <td>-0.370164</td>\n",
       "      <td>-0.609409</td>\n",
       "    </tr>\n",
       "    <tr>\n",
       "      <th>horsepower</th>\n",
       "      <td>-0.771543</td>\n",
       "      <td>0.839061</td>\n",
       "      <td>0.893760</td>\n",
       "      <td>1.000000</td>\n",
       "      <td>0.860676</td>\n",
       "      <td>-0.684376</td>\n",
       "      <td>-0.411750</td>\n",
       "      <td>-0.453613</td>\n",
       "    </tr>\n",
       "    <tr>\n",
       "      <th>weight</th>\n",
       "      <td>-0.831741</td>\n",
       "      <td>0.896017</td>\n",
       "      <td>0.932824</td>\n",
       "      <td>0.860676</td>\n",
       "      <td>1.000000</td>\n",
       "      <td>-0.417457</td>\n",
       "      <td>-0.306564</td>\n",
       "      <td>-0.581024</td>\n",
       "    </tr>\n",
       "    <tr>\n",
       "      <th>acceleration</th>\n",
       "      <td>0.420289</td>\n",
       "      <td>-0.505419</td>\n",
       "      <td>-0.543684</td>\n",
       "      <td>-0.684376</td>\n",
       "      <td>-0.417457</td>\n",
       "      <td>1.000000</td>\n",
       "      <td>0.288137</td>\n",
       "      <td>0.205873</td>\n",
       "    </tr>\n",
       "    <tr>\n",
       "      <th>model_year</th>\n",
       "      <td>0.579267</td>\n",
       "      <td>-0.348746</td>\n",
       "      <td>-0.370164</td>\n",
       "      <td>-0.411750</td>\n",
       "      <td>-0.306564</td>\n",
       "      <td>0.288137</td>\n",
       "      <td>1.000000</td>\n",
       "      <td>0.180662</td>\n",
       "    </tr>\n",
       "    <tr>\n",
       "      <th>origin</th>\n",
       "      <td>0.563450</td>\n",
       "      <td>-0.562543</td>\n",
       "      <td>-0.609409</td>\n",
       "      <td>-0.453613</td>\n",
       "      <td>-0.581024</td>\n",
       "      <td>0.205873</td>\n",
       "      <td>0.180662</td>\n",
       "      <td>1.000000</td>\n",
       "    </tr>\n",
       "  </tbody>\n",
       "</table>\n",
       "</div>"
      ],
      "text/plain": [
       "                   mpg  cylinders  displacement  horsepower    weight  \\\n",
       "mpg           1.000000  -0.775396     -0.804203   -0.771543 -0.831741   \n",
       "cylinders    -0.775396   1.000000      0.950721    0.839061  0.896017   \n",
       "displacement -0.804203   0.950721      1.000000    0.893760  0.932824   \n",
       "horsepower   -0.771543   0.839061      0.893760    1.000000  0.860676   \n",
       "weight       -0.831741   0.896017      0.932824    0.860676  1.000000   \n",
       "acceleration  0.420289  -0.505419     -0.543684   -0.684376 -0.417457   \n",
       "model_year    0.579267  -0.348746     -0.370164   -0.411750 -0.306564   \n",
       "origin        0.563450  -0.562543     -0.609409   -0.453613 -0.581024   \n",
       "\n",
       "              acceleration  model_year    origin  \n",
       "mpg               0.420289    0.579267  0.563450  \n",
       "cylinders        -0.505419   -0.348746 -0.562543  \n",
       "displacement     -0.543684   -0.370164 -0.609409  \n",
       "horsepower       -0.684376   -0.411750 -0.453613  \n",
       "weight           -0.417457   -0.306564 -0.581024  \n",
       "acceleration      1.000000    0.288137  0.205873  \n",
       "model_year        0.288137    1.000000  0.180662  \n",
       "origin            0.205873    0.180662  1.000000  "
      ]
     },
     "execution_count": 12,
     "metadata": {},
     "output_type": "execute_result"
    }
   ],
   "source": [
    "autoDfImputed.corr()"
   ]
  },
  {
   "cell_type": "markdown",
   "metadata": {},
   "source": [
    "<br>\n",
    "### normalization (applying z-score normalization)"
   ]
  },
  {
   "cell_type": "code",
   "execution_count": 13,
   "metadata": {},
   "outputs": [],
   "source": [
    "from sklearn.preprocessing import scale\n",
    "autoDfColNames = ['mpg','cylinders','displacement','horsepower','weight','acceleration','model_year','origin']\n",
    "\n",
    "autoDfDelSc = pd.DataFrame(scale(autoDfDeleted), columns=autoDfColNames)\n",
    "autoDfImpSc = pd.DataFrame(scale(autoDfImputed), columns=autoDfColNames)\n",
    "\n",
    "autoDfImpSc.loc[30:35];\n",
    "#autoDfImpSc.mean();\n",
    "#autoDfImpSc.std();"
   ]
  },
  {
   "cell_type": "markdown",
   "metadata": {},
   "source": [
    "<br>\n",
    "### unify / remove strongly correlated features"
   ]
  },
  {
   "cell_type": "code",
   "execution_count": 14,
   "metadata": {},
   "outputs": [],
   "source": [
    "# step unused later, yields worse results\n",
    "autoDfImpScCorr = autoDfImpSc.copy()\n",
    "del autoDfImpScCorr['cylinders']\n",
    "del autoDfImpScCorr['horsepower']\n",
    "del autoDfImpScCorr['weight']\n",
    "#plot_corr(autoDfImpScCorr)"
   ]
  },
  {
   "cell_type": "markdown",
   "metadata": {
    "collapsed": true
   },
   "source": [
    "<br>\n",
    "<br>\n",
    "<br>\n",
    "<br>\n",
    "# Training and Testing"
   ]
  },
  {
   "cell_type": "markdown",
   "metadata": {},
   "source": [
    "### data splitting"
   ]
  },
  {
   "cell_type": "code",
   "execution_count": 15,
   "metadata": {
    "collapsed": true
   },
   "outputs": [],
   "source": [
    "from sklearn.model_selection import train_test_split\n",
    "\n",
    "features = ['cylinders','displacement','horsepower','weight','acceleration','model_year','origin']\n",
    "labels = ['mpg']\n",
    "\n",
    "# unscaled / all features\n",
    "#XDel= autoDfDeleted[features].values\n",
    "#yDel = autoDfDeleted[labels].values\n",
    "#XImp = autoDfImputed[features].values\n",
    "#yImp = autoDfImputed[labels].values\n",
    "\n",
    "# scaled / all features\n",
    "XDel= autoDfDelSc[features].values\n",
    "yDel = autoDfDelSc[labels].values\n",
    "XImp = autoDfImpSc[features].values\n",
    "yImp = autoDfImpSc[labels].values\n",
    "\n",
    "# scaled / correlated features removed\n",
    "# performs worse than without removing the correlations\n",
    "#featuresCorr = ['displacement','acceleration','model_year', 'origin']\n",
    "#XDel= autoDfDelSc[featuresCorr].values\n",
    "#yDel = autoDfDelSc[labels].values\n",
    "#XImp = autoDfImpSc[featuresCorr].values\n",
    "#yImp = autoDfImpSc[labels].values\n",
    "\n",
    "\n",
    "split_size = 0.30\n",
    "\n",
    "X_train_del, X_test_del, y_train_del, y_test_del = train_test_split(XDel, yDel, test_size=split_size, random_state=16)\n",
    "X_train_imp, X_test_imp, y_train_imp, y_test_imp = train_test_split(XImp, yImp, test_size=split_size, random_state=16)\n"
   ]
  },
  {
   "cell_type": "markdown",
   "metadata": {},
   "source": [
    "<br>\n",
    "### model training (knn)"
   ]
  },
  {
   "cell_type": "code",
   "execution_count": 16,
   "metadata": {},
   "outputs": [],
   "source": [
    "# TODO: iterate through nearest neighbours\n",
    "# do 10 fold cross validation\n",
    "\n",
    "from sklearn import neighbors\n",
    "\n",
    "knnDel = neighbors.KNeighborsRegressor(3, weights='distance')\n",
    "knnDel.fit(X_train_del, y_train_del.ravel());\n",
    "\n",
    "knnImp = neighbors.KNeighborsRegressor(3, weights='distance')\n",
    "knnImp.fit(X_train_imp, y_train_imp.ravel());\n"
   ]
  },
  {
   "cell_type": "markdown",
   "metadata": {},
   "source": [
    "### model testing (knn)"
   ]
  },
  {
   "cell_type": "code",
   "execution_count": 17,
   "metadata": {},
   "outputs": [
    {
     "name": "stdout",
     "output_type": "stream",
     "text": [
      "results with deleted rows\n",
      "mean squared error:  0.148848843942\n",
      "mean absolute error:  0.289449668462\n",
      "correlation coefficient:  0.935718798318\n",
      "\n",
      "results with imputed rows\n",
      "mean squared error:  0.211688570546\n",
      "mean absolute error:  0.295310407932\n",
      "correlation coefficient:  0.905072110482\n"
     ]
    }
   ],
   "source": [
    "from sklearn.metrics import mean_squared_error\n",
    "from sklearn.metrics import mean_absolute_error\n",
    "\n",
    "knn_prediction_del = knnDel.predict(X_test_del)\n",
    "knn_prediction_imp = knnImp.predict(X_test_imp)\n",
    "\n",
    "predicted_series_del = pd.Series(knn_prediction_del.ravel())\n",
    "actual_series_del = pd.Series(y_test_del.ravel())\n",
    "\n",
    "predicted_series_imp = pd.Series(knn_prediction_imp.ravel())\n",
    "actual_series_imp = pd.Series(y_test_imp.ravel())\n",
    "\n",
    "print('results with deleted rows')\n",
    "print('mean squared error: ', mean_squared_error(actual_series_del, predicted_series_del))\n",
    "print('mean absolute error: ', mean_absolute_error(actual_series_del, predicted_series_del))\n",
    "print('correlation coefficient: ', actual_series_del.corr(predicted_series_del))\n",
    "\n",
    "print('')\n",
    "print('results with imputed rows')\n",
    "print('mean squared error: ', mean_squared_error(actual_series_imp, predicted_series_imp))\n",
    "print('mean absolute error: ', mean_absolute_error(actual_series_imp, predicted_series_imp))\n",
    "print('correlation coefficient: ', actual_series_imp.corr(predicted_series_imp))\n",
    "pd.concat([actual_series_del, predicted_series_del], axis=1);\n",
    "\n"
   ]
  },
  {
   "cell_type": "code",
   "execution_count": null,
   "metadata": {
    "collapsed": true
   },
   "outputs": [],
   "source": []
  }
 ],
 "metadata": {
  "kernelspec": {
   "display_name": "Python 3",
   "language": "python",
   "name": "python3"
  },
  "language_info": {
   "codemirror_mode": {
    "name": "ipython",
    "version": 3
   },
   "file_extension": ".py",
   "mimetype": "text/x-python",
   "name": "python",
   "nbconvert_exporter": "python",
   "pygments_lexer": "ipython3",
   "version": "3.6.3"
  }
 },
 "nbformat": 4,
 "nbformat_minor": 2
}
